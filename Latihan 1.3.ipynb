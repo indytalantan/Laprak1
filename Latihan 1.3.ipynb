{
 "cells": [
  {
   "cell_type": "code",
   "execution_count": 1,
   "id": "39849141-43db-445d-a702-743d8971bc66",
   "metadata": {},
   "outputs": [
    {
     "name": "stdout",
     "output_type": "stream",
     "text": [
      "Perlu waktu 7.27 tahun untuk mencapai uang\n"
     ]
    }
   ],
   "source": [
    "import math \n",
    "\n",
    "biaya_awal = 200000000\n",
    "biaya_yang_ingin_dicapai = 400000000\n",
    "bunganya = 0.1\n",
    "\n",
    "#t = waktu\n",
    "t = round(math.log(biaya_yang_ingin_dicapai / biaya_awal) / math.log(1+bunganya), 2)\n",
    "print('Perlu waktu', t,'tahun untuk mencapai uang')"
   ]
  },
  {
   "cell_type": "code",
   "execution_count": null,
   "id": "40a1a40e-94ed-4b5a-a736-1bcf6ac0292f",
   "metadata": {},
   "outputs": [],
   "source": []
  }
 ],
 "metadata": {
  "kernelspec": {
   "display_name": "Python [conda env:base] *",
   "language": "python",
   "name": "conda-base-py"
  },
  "language_info": {
   "codemirror_mode": {
    "name": "ipython",
    "version": 3
   },
   "file_extension": ".py",
   "mimetype": "text/x-python",
   "name": "python",
   "nbconvert_exporter": "python",
   "pygments_lexer": "ipython3",
   "version": "3.12.7"
  }
 },
 "nbformat": 4,
 "nbformat_minor": 5
}
