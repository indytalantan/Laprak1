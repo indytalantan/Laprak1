{
 "cells": [
  {
   "cell_type": "code",
   "execution_count": 3,
   "id": "d1d163a8-e58e-4c48-b2bb-c29b3f722738",
   "metadata": {},
   "outputs": [
    {
     "name": "stdout",
     "output_type": "stream",
     "text": [
      "Keuntungan dalam Rp. 875000\n",
      "Keuntungan dalam persen 5.38 %\n",
      "Keuntungan yang didapatkan dalam Rp. 2075000\n",
      "Keuntungan yang didapatkan dalam persen 7.82 %\n"
     ]
    }
   ],
   "source": [
    "berat_emas = 25\n",
    "harga_emas_dulu = 650000\n",
    "biaya_pertama = berat_emas * harga_emas_dulu\n",
    "\n",
    "harga_emas_sekarang = 685000\n",
    "biaya_kedua = berat_emas * harga_emas_sekarang\n",
    "\n",
    "keuntungan = biaya_kedua - biaya_pertama\n",
    "print('Keuntungan dalam Rp.', C)\n",
    "\n",
    "keuntungan_persen = (keuntungan / biaya_pertama) * 100\n",
    "print('Keuntungan dalam persen', f\"{D:.2f}\", '%')\n",
    "\n",
    "emas_baru = harga_emas_sekarang * 15\n",
    "harga_terbaru = 715000\n",
    "keuntungan_yang_didapatkan = (harga_terbaru * 40)-(emas_baru+biaya_pertama)\n",
    "keuntungan_baru = (keuntungan_yang_didapatkan / (emas_baru+biaya_pertama)) * 100\n",
    "print('Keuntungan yang didapatkan dalam Rp.', keuntungan_yang_didapatkan)\n",
    "print('Keuntungan yang didapatkan dalam persen', f\"{keuntungan_baru:.2f}\", '%')"
   ]
  },
  {
   "cell_type": "code",
   "execution_count": null,
   "id": "fca83d1a-6735-4126-8c84-09db75ecc8d6",
   "metadata": {},
   "outputs": [],
   "source": []
  }
 ],
 "metadata": {
  "kernelspec": {
   "display_name": "Python [conda env:base] *",
   "language": "python",
   "name": "conda-base-py"
  },
  "language_info": {
   "codemirror_mode": {
    "name": "ipython",
    "version": 3
   },
   "file_extension": ".py",
   "mimetype": "text/x-python",
   "name": "python",
   "nbconvert_exporter": "python",
   "pygments_lexer": "ipython3",
   "version": "3.12.7"
  }
 },
 "nbformat": 4,
 "nbformat_minor": 5
}
